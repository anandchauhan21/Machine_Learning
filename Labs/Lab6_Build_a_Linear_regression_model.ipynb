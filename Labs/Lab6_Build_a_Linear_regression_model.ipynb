{
  "nbformat": 4,
  "nbformat_minor": 0,
  "metadata": {
    "colab": {
      "provenance": [],
      "name": "Lab6_Build_a_Linear_regression_model.ipynb",
      "authorship_tag": "ABX9TyNG8S2RC4FfHXHq5JXMpjh/",
      "include_colab_link": true
    },
    "kernelspec": {
      "name": "python3",
      "display_name": "Python 3"
    },
    "language_info": {
      "name": "python"
    }
  },
  "cells": [
    {
      "cell_type": "markdown",
      "metadata": {
        "id": "view-in-github",
        "colab_type": "text"
      },
      "source": [
        "<a href=\"https://colab.research.google.com/github/anandchauhan21/Machine_Learning/blob/main/Labs/Lab6_Build_a_Linear_regression_model.ipynb\" target=\"_parent\"><img src=\"https://colab.research.google.com/assets/colab-badge.svg\" alt=\"Open In Colab\"/></a>"
      ]
    },
    {
      "cell_type": "code",
      "source": [
        "import numpy as np\n",
        "import pandas as pd\n",
        "import matplotlib.pyplot as plt\n",
        "from sklearn.model_selection import train_test_split\n",
        "from sklearn.linear_model import LinearRegression\n",
        "from sklearn.metrics import mean_squared_error, r2_score\n"
      ],
      "metadata": {
        "id": "OaT4aa41a4xH"
      },
      "execution_count": 1,
      "outputs": []
    },
    {
      "cell_type": "code",
      "source": [
        "# Set random seed for reproducibility\n",
        "np.random.seed(42)\n",
        "\n",
        "# Generate random data for Age and Weight\n",
        "age = np.random.randint(18, 65, 150)\n",
        "weight = np.random.randint(45, 100, 150)\n",
        "\n",
        "# Generate BMI values with some noise\n",
        "bmi = 0.3 * weight + 0.1 * age + np.random.normal(0, 2, 150)\n",
        "\n",
        "# Create a DataFrame\n",
        "data = pd.DataFrame({\n",
        "    'Age': age,\n",
        "    'Weight': weight,\n",
        "    'BMI': bmi\n",
        "})\n",
        "\n",
        "# Display first few rows\n",
        "print(\"Sample Data:\")\n",
        "data.head()\n"
      ],
      "metadata": {
        "id": "DTTFHUxia520"
      },
      "execution_count": null,
      "outputs": []
    },
    {
      "cell_type": "code",
      "source": [
        "plt.figure(figsize=(8, 5))\n",
        "plt.scatter(data['Weight'], data['BMI'], color='blue', label='Weight vs BMI')\n",
        "plt.scatter(data['Age'], data['BMI'], color='green', label='Age vs BMI')\n",
        "plt.xlabel(\"Feature Values\")\n",
        "plt.ylabel(\"BMI\")\n",
        "plt.title(\"BMI Relationship with Age and Weight\")\n",
        "plt.legend()\n",
        "plt.show()\n"
      ],
      "metadata": {
        "id": "m533U6Ava8Zi"
      },
      "execution_count": null,
      "outputs": []
    },
    {
      "cell_type": "code",
      "source": [
        "X = data[['Age', 'Weight']]\n",
        "y = data['BMI']\n",
        "\n",
        "X_train, X_test, y_train, y_test = train_test_split(X, y, test_size=0.2, random_state=42)\n"
      ],
      "metadata": {
        "id": "pTY5PccXa-NC"
      },
      "execution_count": 4,
      "outputs": []
    },
    {
      "cell_type": "code",
      "source": [
        "# Initialize the model\n",
        "model = LinearRegression()\n",
        "\n",
        "# Train the model\n",
        "model.fit(X_train, y_train)\n",
        "\n",
        "# Display model parameters\n",
        "print(\"Model Coefficients:\", model.coef_)\n",
        "print(\"Model Intercept:\", model.intercept_)\n"
      ],
      "metadata": {
        "id": "01w4StHLa_r3",
        "outputId": "af046759-900f-4370-d4a9-b663d434e544",
        "colab": {
          "base_uri": "https://localhost:8080/"
        }
      },
      "execution_count": 5,
      "outputs": [
        {
          "output_type": "stream",
          "name": "stdout",
          "text": [
            "Model Coefficients: [0.08741319 0.2866014 ]\n",
            "Model Intercept: 1.5269336199097658\n"
          ]
        }
      ]
    },
    {
      "cell_type": "code",
      "source": [
        "y_pred = model.predict(X_test)\n"
      ],
      "metadata": {
        "id": "pvVfc51EbBZ7"
      },
      "execution_count": 6,
      "outputs": []
    },
    {
      "cell_type": "code",
      "source": [
        "mse = mean_squared_error(y_test, y_pred)\n",
        "r2 = r2_score(y_test, y_pred)\n",
        "\n",
        "print(f\"Mean Squared Error (MSE): {mse:.2f}\")\n",
        "print(f\"R² Score: {r2:.2f}\")\n"
      ],
      "metadata": {
        "id": "89xvuLwPbDFv",
        "outputId": "d20772ab-42be-45b4-d93d-be45e3beb57f",
        "colab": {
          "base_uri": "https://localhost:8080/"
        }
      },
      "execution_count": 7,
      "outputs": [
        {
          "output_type": "stream",
          "name": "stdout",
          "text": [
            "Mean Squared Error (MSE): 4.87\n",
            "R² Score: 0.86\n"
          ]
        }
      ]
    },
    {
      "cell_type": "code",
      "source": [
        "plt.figure(figsize=(7,5))\n",
        "plt.scatter(y_test, y_pred, color='purple')\n",
        "plt.plot([y.min(), y.max()], [y.min(), y.max()], 'r--')\n",
        "plt.xlabel('Actual BMI')\n",
        "plt.ylabel('Predicted BMI')\n",
        "plt.title('Actual vs Predicted BMI')\n",
        "plt.show()\n"
      ],
      "metadata": {
        "id": "2e__IlhbbEyR"
      },
      "execution_count": null,
      "outputs": []
    },
    {
      "cell_type": "code",
      "source": [
        "# Predict BMI for a person aged 35 years and weighing 75 kg\n",
        "new_person = pd.DataFrame({'Age': [35], 'Weight': [75]})\n",
        "predicted_bmi = model.predict(new_person)\n",
        "print(f\"Predicted BMI for Age=35 and Weight=75kg: {predicted_bmi[0]:.2f}\")\n"
      ],
      "metadata": {
        "id": "lNtHqSH2bGmo",
        "outputId": "7d2c819c-b15b-411e-ea68-8f3ca8dfb44b",
        "colab": {
          "base_uri": "https://localhost:8080/"
        }
      },
      "execution_count": 9,
      "outputs": [
        {
          "output_type": "stream",
          "name": "stdout",
          "text": [
            "Predicted BMI for Age=35 and Weight=75kg: 26.08\n"
          ]
        }
      ]
    }
  ]
}