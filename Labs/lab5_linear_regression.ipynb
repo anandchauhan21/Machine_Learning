{
  "nbformat": 4,
  "nbformat_minor": 0,
  "metadata": {
    "colab": {
      "provenance": [],
      "authorship_tag": "ABX9TyMehYivhuQiNTRVl4KXWW1g",
      "include_colab_link": true
    },
    "kernelspec": {
      "name": "python3",
      "display_name": "Python 3"
    },
    "language_info": {
      "name": "python"
    }
  },
  "cells": [
    {
      "cell_type": "markdown",
      "metadata": {
        "id": "view-in-github",
        "colab_type": "text"
      },
      "source": [
        "<a href=\"https://colab.research.google.com/github/anandchauhan21/Machine_Learning/blob/main/Labs/lab5_linear_regression.ipynb\" target=\"_parent\"><img src=\"https://colab.research.google.com/assets/colab-badge.svg\" alt=\"Open In Colab\"/></a>"
      ]
    },
    {
      "cell_type": "markdown",
      "source": [
        "# 🧪 Lab 5: Build a Linear Regression Model to Predict Health Parameters (BMI, Blood Pressure)\n",
        "\n",
        "## 🎯 Objective\n",
        "To implement a **Linear Regression model** using Python to predict health parameters such as **BMI** or **Blood Pressure**\n",
        "based on other features (e.g., age, height, weight).\n",
        "\n",
        "---\n",
        "\n",
        "## 🧠 Concept Recap\n",
        "- **Linear Regression** is used for predicting continuous outcomes.  \n",
        "- It assumes a **linear relationship** between dependent (Y) and independent (X) variables.  \n",
        "- Example equation:  \n",
        "  \\[\n",
        "  Y = β_0 + β_1 X + ε\n",
        "  \\]\n",
        "  where:\n",
        "  - \\( Y \\) = dependent variable (BMI or Blood Pressure)  \n",
        "  - \\( X \\) = independent variable (Age, Weight, etc.)  \n",
        "  - \\( β_0, β_1 \\) = coefficients learned by the model  \n",
        "  - \\( ε \\) = error term\n"
      ],
      "metadata": {
        "id": "a3rFootYTDyi"
      }
    },
    {
      "cell_type": "code",
      "source": [
        "# ✅ Importing required libraries\n",
        "import numpy as np\n",
        "import pandas as pd\n",
        "import matplotlib.pyplot as plt\n",
        "import seaborn as sns\n",
        "from sklearn.linear_model import LinearRegression\n",
        "from sklearn.model_selection import train_test_split\n",
        "from sklearn.metrics import mean_squared_error, r2_score"
      ],
      "metadata": {
        "id": "VVWxFIuGVShA"
      },
      "execution_count": null,
      "outputs": []
    },
    {
      "cell_type": "code",
      "source": [
        "# Synthetic dataset creation\n",
        "np.random.seed(42)\n",
        "n = 100\n",
        "age = np.random.randint(18, 65, n)\n",
        "weight = np.random.randint(45, 100, n)\n",
        "height = np.random.normal(1.65, 0.1, n)  # height in meters\n",
        "bmi = weight / (height ** 2) + np.random.normal(0, 1, n)  # adding noise\n",
        "\n",
        "df = pd.DataFrame({\n",
        "    'Age': age,\n",
        "    'Weight': weight,\n",
        "    'Height': height.round(2),\n",
        "    'BMI': bmi.round(2)\n",
        "})\n",
        "\n",
        "# Display dataset\n",
        "df.head(10)\n"
      ],
      "metadata": {
        "id": "oxmj7H5rVU5D"
      },
      "execution_count": null,
      "outputs": []
    },
    {
      "cell_type": "code",
      "source": [
        "# Check data info and summary\n",
        "print(df.info())\n",
        "print(df.describe())\n",
        "\n",
        "# Visualize relationship between Weight, Height, and BMI\n",
        "sns.pairplot(df, vars=['Weight', 'Height', 'BMI'], kind='reg')\n",
        "plt.suptitle(\"Relationship Between Features\", y=1.02)\n",
        "plt.show()\n"
      ],
      "metadata": {
        "id": "_63nfJrTVWdA"
      },
      "execution_count": null,
      "outputs": []
    },
    {
      "cell_type": "code",
      "source": [
        "# Independent variable(s): Age, Weight, Height\n",
        "X = df[['Age', 'Weight', 'Height']]\n",
        "\n",
        "# Dependent variable: BMI\n",
        "y = df['BMI']\n",
        "\n",
        "# Split into train/test sets (80/20)\n",
        "X_train, X_test, y_train, y_test = train_test_split(X, y, test_size=0.2, random_state=42)\n",
        "\n",
        "print(\"Training samples:\", len(X_train))\n",
        "print(\"Testing samples:\", len(X_test))\n"
      ],
      "metadata": {
        "id": "oLhcoWO7VYGG"
      },
      "execution_count": null,
      "outputs": []
    },
    {
      "cell_type": "code",
      "source": [
        "# Initialize model\n",
        "model = LinearRegression()\n",
        "\n",
        "# Train model\n",
        "model.fit(X_train, y_train)\n",
        "\n",
        "# Coefficients and intercept\n",
        "print(\"Intercept (β0):\", model.intercept_)\n",
        "print(\"Coefficients (β1..βn):\", model.coef_)\n",
        "print(\"\\nFeature mapping:\")\n",
        "for name, coef in zip(X.columns, model.coef_):\n",
        "    print(f\"  {name}: {coef:.4f}\")\n"
      ],
      "metadata": {
        "id": "AtYvyiRLVfOc"
      },
      "execution_count": null,
      "outputs": []
    },
    {
      "cell_type": "code",
      "source": [
        "# Predict on test data\n",
        "y_pred = model.predict(X_test)\n",
        "\n",
        "# Evaluate model\n",
        "mse = mean_squared_error(y_test, y_pred)\n",
        "r2 = r2_score(y_test, y_pred)\n",
        "\n",
        "print(f\"Mean Squared Error: {mse:.2f}\")\n",
        "print(f\"R² Score: {r2:.3f}\")\n",
        "\n",
        "# Plot predictions vs actual\n",
        "plt.figure(figsize=(6,5))\n",
        "plt.scatter(y_test, y_pred, color='teal', alpha=0.7)\n",
        "plt.xlabel(\"Actual BMI\")\n",
        "plt.ylabel(\"Predicted BMI\")\n",
        "plt.title(\"Actual vs Predicted BMI\")\n",
        "plt.plot([y.min(), y.max()], [y.min(), y.max()], 'r--')\n",
        "plt.show()\n"
      ],
      "metadata": {
        "id": "4JrA0O9PVhSS"
      },
      "execution_count": null,
      "outputs": []
    },
    {
      "cell_type": "code",
      "source": [
        "# Predict for new input\n",
        "sample = pd.DataFrame({'Age':[30], 'Weight':[70], 'Height':[1.75]})\n",
        "predicted_bmi = model.predict(sample)[0]\n",
        "print(f\"Predicted BMI for {sample.to_dict('records')[0]} → {predicted_bmi:.2f}\")\n"
      ],
      "metadata": {
        "id": "g-zkGW5BVlM3"
      },
      "execution_count": null,
      "outputs": []
    },
    {
      "cell_type": "code",
      "source": [
        "# Optional: Predict Blood Pressure (Synthetic Example)\n",
        "# Generate synthetic data for blood pressure prediction\n",
        "np.random.seed(10)\n",
        "n = 100\n",
        "age = np.random.randint(20, 70, n)\n",
        "bmi = np.random.normal(25, 4, n)\n",
        "bp = 80 + 0.6*age + 1.2*bmi + np.random.normal(0, 3, n)\n",
        "\n",
        "df_bp = pd.DataFrame({'Age': age, 'BMI': bmi, 'BloodPressure': bp})\n",
        "X_bp = df_bp[['Age', 'BMI']]\n",
        "y_bp = df_bp['BloodPressure']\n",
        "\n",
        "# Train model\n",
        "model_bp = LinearRegression().fit(X_bp, y_bp)\n",
        "preds = model_bp.predict(X_bp)\n",
        "\n",
        "print(\"Model Coefficients:\")\n",
        "for n,c in zip(X_bp.columns, model_bp.coef_):\n",
        "    print(f\"  {n}: {c:.2f}\")\n",
        "print(\"Intercept:\", round(model_bp.intercept_, 2))\n",
        "\n",
        "# Plot Actual vs Predicted\n",
        "plt.scatter(y_bp, preds, color='purple', alpha=0.6)\n",
        "plt.xlabel(\"Actual BP\"); plt.ylabel(\"Predicted BP\")\n",
        "plt.title(\"Blood Pressure Prediction — Linear Regression\")\n",
        "plt.plot([min(y_bp), max(y_bp)], [min(y_bp), max(y_bp)], 'r--')\n",
        "plt.show()\n"
      ],
      "metadata": {
        "id": "Elx2qBwgVoSy"
      },
      "execution_count": null,
      "outputs": []
    },
    {
      "cell_type": "markdown",
      "source": [
        "## 📌 Summary\n",
        "- Implemented **Linear Regression** for predicting **BMI** and **Blood Pressure**.  \n",
        "- Explored data visually using **Seaborn**.  \n",
        "- Evaluated model performance with **MSE** and **R² Score**.  \n",
        "- Demonstrated prediction on **new patient data**.  \n",
        "\n",
        "---\n",
        "\n",
        "## ✅ Viva Questions\n",
        "1. What is Linear Regression?  \n",
        "2. What is the role of coefficients and intercept?  \n",
        "3. How do you evaluate a regression model?  \n",
        "4. What does the R² score represent?  \n",
        "5. Can Linear Regression handle nonlinear data?\n"
      ],
      "metadata": {
        "id": "4G7F9y2ITqcB"
      }
    }
  ]
}