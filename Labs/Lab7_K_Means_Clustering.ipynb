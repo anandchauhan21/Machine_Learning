{
  "nbformat": 4,
  "nbformat_minor": 0,
  "metadata": {
    "colab": {
      "provenance": [],
      "name": "Lab6_K-Means_Clustering.ipynb",
      "authorship_tag": "ABX9TyPSd/vjcjp2YtXO5WSxwzEM",
      "include_colab_link": true
    },
    "kernelspec": {
      "name": "python3",
      "display_name": "Python 3"
    },
    "language_info": {
      "name": "python"
    }
  },
  "cells": [
    {
      "cell_type": "markdown",
      "metadata": {
        "id": "view-in-github",
        "colab_type": "text"
      },
      "source": [
        "<a href=\"https://colab.research.google.com/github/anandchauhan21/Machine_Learning/blob/main/Labs/Lab6_K_Means_Clustering.ipynb\" target=\"_parent\"><img src=\"https://colab.research.google.com/assets/colab-badge.svg\" alt=\"Open In Colab\"/></a>"
      ]
    },
    {
      "cell_type": "markdown",
      "source": [
        "# 🧪 Lab 6: K-Means Clustering for Patient Segmentation\n",
        "\n",
        "## 🎯 Objective\n",
        "To apply **K-Means Clustering** on patient health data (e.g., Age, BMI, Blood Pressure, Cholesterol, Glucose)  \n",
        "to segment patients into groups based on clinical similarity.\n",
        "\n",
        "---\n",
        "\n",
        "## 🧠 Concept Recap\n",
        "\n",
        "### What is Clustering?\n",
        "- **Unsupervised learning** technique — no labels, the model discovers natural groupings.\n",
        "- Groups (clusters) are formed based on **similarity** between data points.\n",
        "\n",
        "### K-Means Algorithm Steps\n",
        "1. Choose number of clusters **k**.\n",
        "2. Randomly assign **k centroids**.\n",
        "3. Assign each data point to the nearest centroid.\n",
        "4. Recalculate centroids based on assigned points.\n",
        "5. Repeat until convergence (centroids don’t change much).\n",
        "\n",
        "---\n",
        "\n",
        "### Mathematical Representation\n",
        "\\[\n",
        "J = \\sum_{i=1}^{k} \\sum_{x \\in C_i} ||x - \\mu_i||^2\n",
        "\\]\n",
        "\n",
        "where  \n",
        "- \\( C_i \\) = cluster i  \n",
        "- \\( \\mu_i \\) = centroid of cluster i  \n",
        "- \\( J \\) = sum of squared distances (to minimize)\n"
      ],
      "metadata": {
        "id": "rHOuCUdAYwF5"
      }
    },
    {
      "cell_type": "code",
      "source": [
        "import numpy as np\n",
        "import pandas as pd\n",
        "import matplotlib.pyplot as plt\n",
        "import seaborn as sns\n",
        "\n",
        "from sklearn.cluster import KMeans\n",
        "from sklearn.preprocessing import StandardScaler\n",
        "from sklearn.metrics import silhouette_score\n",
        "from sklearn.decomposition import PCA\n",
        "\n",
        "sns.set(style=\"whitegrid\")\n",
        "np.random.seed(42)\n"
      ],
      "metadata": {
        "id": "F95tidB8Y-4p"
      },
      "execution_count": null,
      "outputs": []
    },
    {
      "cell_type": "code",
      "source": [
        "# Synthetic clinical dataset generator\n",
        "def create_patient_data(n=300):\n",
        "    np.random.seed(42)\n",
        "    age1 = np.random.normal(30, 5, n//3)\n",
        "    age2 = np.random.normal(45, 6, n//3)\n",
        "    age3 = np.random.normal(60, 5, n - 2*(n//3))\n",
        "\n",
        "    bmi1 = np.random.normal(22, 2, n//3)\n",
        "    bmi2 = np.random.normal(27, 3, n//3)\n",
        "    bmi3 = np.random.normal(31, 3, n - 2*(n//3))\n",
        "\n",
        "    bp1 = np.random.normal(110, 8, n//3)\n",
        "    bp2 = np.random.normal(130, 10, n//3)\n",
        "    bp3 = np.random.normal(150, 12, n - 2*(n//3))\n",
        "\n",
        "    chol = np.random.normal(200, 30, n)\n",
        "    glucose = np.random.normal(100, 15, n)\n",
        "\n",
        "    df = pd.DataFrame({\n",
        "        'Age': np.concatenate([age1, age2, age3]).round(1),\n",
        "        'BMI': np.concatenate([bmi1, bmi2, bmi3]).round(1),\n",
        "        'SystolicBP': np.concatenate([bp1, bp2, bp3]).round(1),\n",
        "        'Cholesterol': chol.round(1),\n",
        "        'Glucose': glucose.round(1)\n",
        "    })\n",
        "    return df\n",
        "\n",
        "df = create_patient_data(300)\n",
        "print(\"✅ Synthetic patient data created. Shape:\", df.shape)\n",
        "df.head()\n"
      ],
      "metadata": {
        "id": "z7eFimEnY__a"
      },
      "execution_count": null,
      "outputs": []
    },
    {
      "cell_type": "code",
      "source": [
        "print(df.describe().T)\n",
        "\n",
        "plt.figure(figsize=(12, 8))\n",
        "for i, col in enumerate(df.columns, 1):\n",
        "    plt.subplot(2, 3, i)\n",
        "    sns.histplot(df[col], kde=True, color=\"royalblue\")\n",
        "    plt.title(col)\n",
        "plt.tight_layout()\n",
        "plt.show()\n"
      ],
      "metadata": {
        "id": "Wrw5tW-GZB8q"
      },
      "execution_count": null,
      "outputs": []
    },
    {
      "cell_type": "code",
      "source": [
        "features = ['Age', 'BMI', 'SystolicBP', 'Cholesterol', 'Glucose']\n",
        "X = df[features]\n",
        "\n",
        "# Standardization\n",
        "scaler = StandardScaler()\n",
        "X_scaled = scaler.fit_transform(X)\n",
        "\n",
        "print(\"Data standardized. Shape:\", X_scaled.shape)\n"
      ],
      "metadata": {
        "id": "YlWuOTe-ZDF0"
      },
      "execution_count": null,
      "outputs": []
    },
    {
      "cell_type": "code",
      "source": [
        "inertia = []\n",
        "K_range = range(1, 11)\n",
        "\n",
        "for k in K_range:\n",
        "    kmeans = KMeans(n_clusters=k, random_state=42, n_init=10)\n",
        "    kmeans.fit(X_scaled)\n",
        "    inertia.append(kmeans.inertia_)\n",
        "\n",
        "plt.figure(figsize=(6,4))\n",
        "plt.plot(K_range, inertia, 'bo-')\n",
        "plt.title('Elbow Method for Optimal k')\n",
        "plt.xlabel('Number of clusters (k)')\n",
        "plt.ylabel('Inertia')\n",
        "plt.show()\n"
      ],
      "metadata": {
        "id": "j6h6GQ9-ZFB3"
      },
      "execution_count": null,
      "outputs": []
    },
    {
      "cell_type": "code",
      "source": [
        "sil_scores = []\n",
        "K_range = range(2, 11)\n",
        "\n",
        "for k in K_range:\n",
        "    kmeans = KMeans(n_clusters=k, random_state=42, n_init=10)\n",
        "    labels = kmeans.fit_predict(X_scaled)\n",
        "    sil_scores.append(silhouette_score(X_scaled, labels))\n",
        "\n",
        "plt.figure(figsize=(6,4))\n",
        "plt.plot(K_range, sil_scores, 'ro-')\n",
        "plt.title('Silhouette Scores for different k')\n",
        "plt.xlabel('Number of clusters (k)')\n",
        "plt.ylabel('Silhouette Score')\n",
        "plt.show()\n",
        "\n",
        "best_k = K_range[np.argmax(sil_scores)]\n",
        "print(f\"✅ Best k based on Silhouette Score: {best_k}\")\n"
      ],
      "metadata": {
        "id": "PE8s0eL5ZGV7"
      },
      "execution_count": null,
      "outputs": []
    },
    {
      "cell_type": "code",
      "source": [
        "kmeans = KMeans(n_clusters=best_k, random_state=42, n_init=20)\n",
        "labels = kmeans.fit_predict(X_scaled)\n",
        "\n",
        "df['Cluster'] = labels\n",
        "df['Cluster'] = df['Cluster'].astype(str)\n",
        "\n",
        "df.head()\n"
      ],
      "metadata": {
        "id": "R0O9xk5lZHoH"
      },
      "execution_count": null,
      "outputs": []
    },
    {
      "cell_type": "code",
      "source": [
        "pca = PCA(n_components=2)\n",
        "reduced = pca.fit_transform(X_scaled)\n",
        "\n",
        "plt.figure(figsize=(8,6))\n",
        "sns.scatterplot(x=reduced[:,0], y=reduced[:,1], hue=df['Cluster'], palette='tab10', s=60)\n",
        "centers_pca = pca.transform(kmeans.cluster_centers_)\n",
        "plt.scatter(centers_pca[:,0], centers_pca[:,1], s=200, c='black', marker='X', label='Centroids')\n",
        "plt.title(f\"K-Means Clusters Visualization (k={best_k})\")\n",
        "plt.xlabel(\"PCA Component 1\")\n",
        "plt.ylabel(\"PCA Component 2\")\n",
        "plt.legend()\n",
        "plt.show()\n"
      ],
      "metadata": {
        "id": "ZQJ1bybDZJqJ"
      },
      "execution_count": null,
      "outputs": []
    },
    {
      "cell_type": "code",
      "source": [
        "cluster_profile = df.groupby('Cluster')[features].mean().round(2)\n",
        "print(\"Mean values per cluster:\")\n",
        "display(cluster_profile)\n",
        "\n",
        "plt.figure(figsize=(8,4))\n",
        "sns.heatmap(cluster_profile, annot=True, cmap='coolwarm', cbar=False)\n",
        "plt.title(\"Cluster Mean Profile Heatmap\")\n",
        "plt.show()\n",
        "\n",
        "print(\"\\nCluster sizes:\")\n",
        "print(df['Cluster'].value_counts())\n"
      ],
      "metadata": {
        "id": "CMmolSE4ZK2A"
      },
      "execution_count": null,
      "outputs": []
    },
    {
      "cell_type": "code",
      "source": [
        "silhouette = silhouette_score(X_scaled, labels)\n",
        "print(f\"Silhouette Score for k={best_k}: {silhouette:.3f}\")\n"
      ],
      "metadata": {
        "id": "B71lm9k2ZMsh"
      },
      "execution_count": null,
      "outputs": []
    },
    {
      "cell_type": "code",
      "source": [
        "# 🧩 Recap: K-Means Clustering for Patient Segmentation\n",
        "\n",
        "### Key Takeaways:\n",
        "- K-Means is an **unsupervised algorithm** that groups patients based on feature similarity.\n",
        "- Used **Age**, **BMI**, **Systolic BP**, **Cholesterol**, and **Glucose** as features.\n",
        "- **Feature scaling** is essential before clustering.\n",
        "- **Elbow method** and **Silhouette score** help choose the optimal k.\n",
        "- Visualized clusters using **PCA**.\n",
        "- Each cluster represents a distinct **patient risk group**.\n",
        "\n",
        "---\n",
        "\n",
        "### Example Insights:\n",
        "- Cluster 0 → Younger, lower BMI, lower BP → *Healthy group*\n",
        "- Cluster 1 → Mid-age, moderate BMI → *Moderate risk group*\n",
        "- Cluster 2 → Older, high BMI, high BP → *High-risk group*\n",
        "\n",
        "---\n",
        "\n",
        "### Advantages:\n",
        "✅ Simple and fast for large datasets\n",
        "✅ Easy to interpret when visualized with PCA\n",
        "\n",
        "### Limitations:\n",
        "❌ Sensitive to outliers\n",
        "❌ Requires specifying `k`\n",
        "❌ Assumes spherical clusters (may fail for irregular data)\n"
      ],
      "metadata": {
        "id": "TcSQKNL3ZOPJ"
      },
      "execution_count": null,
      "outputs": []
    },
    {
      "cell_type": "code",
      "source": [
        "## ✅ Viva Questions\n",
        "\n",
        "1. What type of learning algorithm is K-Means?\n",
        "2. Why do we standardize features before clustering?\n",
        "3. What is the purpose of the Elbow method?\n",
        "4. What does the Silhouette Score represent?\n",
        "5. How can we determine the number of clusters automatically?\n",
        "6. How would you interpret a cluster with high BMI and BP but low age?\n",
        "7. How could PCA help in clustering high-dimensional medical data?\n",
        "8. What would happen if we didn’t scale the dataset before applying K-Means?\n"
      ],
      "metadata": {
        "id": "C1Xqrs-mZSBm"
      },
      "execution_count": null,
      "outputs": []
    }
  ]
}
